{
 "cells": [
  {
   "cell_type": "code",
   "execution_count": null,
   "metadata": {},
   "outputs": [],
   "source": [
    "import pandas as pd\n",
    "\n"
   ]
  },
  {
   "cell_type": "code",
   "execution_count": null,
   "metadata": {},
   "outputs": [],
   "source": [
    "df = pd.read_csv('final1.csv')"
   ]
  },
  {
   "cell_type": "code",
   "execution_count": null,
   "metadata": {},
   "outputs": [],
   "source": [
    "df.head()"
   ]
  },
  {
   "cell_type": "code",
   "execution_count": null,
   "metadata": {},
   "outputs": [],
   "source": [
    "df = df.drop(columns='Unnamed: 0')"
   ]
  },
  {
   "cell_type": "code",
   "execution_count": null,
   "metadata": {},
   "outputs": [],
   "source": [
    "import tensorflow as tf\n",
    "from tensorflow.keras.layers import Dense, Input\n",
    "from tensorflow.keras.models import Model\n",
    "import tensorflow_probability as tfp\n",
    "\n",
    "class CPUUtilizationEstimator:\n",
    "    def __init__(self, input_dim, hidden_dim):\n",
    "        self.input_dim = input_dim\n",
    "        self.hidden_dim = hidden_dim\n",
    "        self.model = self.build_model()\n",
    "\n",
    "    def build_model(self):\n",
    "        # Input layer\n",
    "        inputs = Input(shape=(self.input_dim,))\n",
    "        \n",
    "        # Shared fully-connected layers\n",
    "        x = Dense(self.hidden_dim, activation='relu')(inputs)\n",
    "        \n",
    "        # Separate branches for mean and variance\n",
    "        mean = Dense(1, activation='linear')(x)\n",
    "        variance = Dense(1, activation='softplus')(x)  # softplus ensures variance is positive\n",
    "\n",
    "        # MultivariateNormalDiag layer\n",
    "        distribution = tfp.layers.MultivariateNormalDiag(loc=mean, scale_diag=variance)\n",
    "\n",
    "        return Model(inputs=inputs, outputs=distribution)\n",
    "\n",
    "    def estimate(self, workload_metrics):\n",
    "        # Estimate CPU utilization\n",
    "        return self.model.predict(workload_metrics)\n",
    "\n",
    "# Usage\n",
    "input_dim = 7  # As per the feature embedding dimension mentioned in the paper\n",
    "hidden_dim = 128  # This can be tuned\n",
    "\n",
    "estimator = CPUUtilizationEstimator(input_dim, hidden_dim)\n",
    "workload_metrics = ...  # Placeholder for workload metrics input\n",
    "estimated_cpu_utilization = estimator.estimate(workload_metrics)"
   ]
  },
  {
   "cell_type": "code",
   "execution_count": null,
   "metadata": {},
   "outputs": [],
   "source": [
    "from tensorflow.keras.layers import Dense, Input\n",
    "from tensorflow.keras.models import Model\n"
   ]
  },
  {
   "cell_type": "code",
   "execution_count": null,
   "metadata": {},
   "outputs": [],
   "source": []
  }
 ],
 "metadata": {
  "kernelspec": {
   "display_name": "Python 3",
   "language": "python",
   "name": "python3"
  },
  "language_info": {
   "codemirror_mode": {
    "name": "ipython",
    "version": 3
   },
   "file_extension": ".py",
   "mimetype": "text/x-python",
   "name": "python",
   "nbconvert_exporter": "python",
   "pygments_lexer": "ipython3",
   "version": "3.11.6"
  }
 },
 "nbformat": 4,
 "nbformat_minor": 2
}
